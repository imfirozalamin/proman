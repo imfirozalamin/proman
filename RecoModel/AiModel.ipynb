{
 "cells": [
  {
   "cell_type": "code",
   "execution_count": 17,
   "id": "719c811a",
   "metadata": {},
   "outputs": [],
   "source": [
    "from pymongo import MongoClient\n",
    "from datetime import datetime\n",
    "import pandas as pd\n",
    "\n",
    "def connect_to_mongodb(uri=\"mongodb://localhost:27017/\", db_name=\"proman-db\"):\n",
    "    \"\"\"Connect to MongoDB and return the database object\"\"\"\n",
    "    try:\n",
    "        client = MongoClient(uri)\n",
    "        db = client[db_name]\n",
    "        print(\"Successfully connected to MongoDB\")\n",
    "        return db\n",
    "    except Exception as e:\n",
    "        print(f\"Error connecting to MongoDB: {e}\")\n",
    "        return None"
   ]
  },
  {
   "cell_type": "code",
   "execution_count": 18,
   "id": "e9d5de33",
   "metadata": {},
   "outputs": [],
   "source": [
    "def fetch_and_preprocess_tasks(db):\n",
    "    \"\"\"Fetch tasks from MongoDB and preprocess for analysis\"\"\"\n",
    "    tasks_collection = db['tasks']\n",
    "    tasks = list(tasks_collection.find({}))\n",
    "    \n",
    "    # Convert to DataFrame\n",
    "    df = pd.DataFrame(tasks)\n",
    "    \n",
    "    # Calculate time remaining\n",
    "    df['deadline'] = pd.to_datetime(df['deadline'])\n",
    "    df['time_remaining'] = (df['deadline'] - datetime.now()).dt.days\n",
    "    \n",
    "    # Handle missing priorities\n",
    "    if 'priority' not in df.columns:\n",
    "        df['priority'] = None\n",
    "    \n",
    "    return df"
   ]
  },
  {
   "cell_type": "code",
   "execution_count": 19,
   "id": "15073879",
   "metadata": {},
   "outputs": [],
   "source": [
    "from sklearn.feature_extraction.text import TfidfVectorizer\n",
    "from sklearn.decomposition import LatentDirichletAllocation\n",
    "import numpy as np\n",
    "\n",
    "def analyze_text_complexity(df):\n",
    "    \"\"\"Analyze text fields to estimate task complexity\"\"\"\n",
    "    # Combine title and description\n",
    "    df['combined_text'] = df['project name/title'] + \" \" + df['description']\n",
    "    \n",
    "    # TF-IDF Vectorization\n",
    "    vectorizer = TfidfVectorizer(max_features=1000, stop_words='english')\n",
    "    tfidf_matrix = vectorizer.fit_transform(df['combined_text'])\n",
    "    \n",
    "    # Topic Modeling to assess complexity\n",
    "    lda = LatentDirichletAllocation(n_components=5, random_state=42)\n",
    "    lda.fit(tfidf_matrix)\n",
    "    \n",
    "    # Complexity score based on topic distribution entropy\n",
    "    topic_dist = lda.transform(tfidf_matrix)\n",
    "    df['complexity_score'] = [np.sum(-p*np.log(p)) for p in topic_dist]\n",
    "    \n",
    "    # Normalize scores\n",
    "    df['complexity_score'] = (df['complexity_score'] - df['complexity_score'].min()) / \\\n",
    "                            (df['complexity_score'].max() - df['complexity_score'].min())\n",
    "    \n",
    "    return df"
   ]
  },
  {
   "cell_type": "code",
   "execution_count": 20,
   "id": "a2d46e84",
   "metadata": {},
   "outputs": [],
   "source": [
    "def calculate_priority_scores(df):\n",
    "    \"\"\"Calculate overall priority scores based on multiple factors\"\"\"\n",
    "    # Map priority levels to numerical values if they exist\n",
    "    if df['priority'].notna().any():\n",
    "        priority_map = {'low': 1, 'medium': 2, 'high': 3}\n",
    "        df['priority_numeric'] = df['priority'].str.lower().map(priority_map).fillna(1)\n",
    "    else:\n",
    "        df['priority_numeric'] = 1\n",
    "    \n",
    "    # Calculate urgency score (more urgent = higher score)\n",
    "    max_days = max(1, df['time_remaining'].max())  # Avoid division by zero\n",
    "    df['urgency_score'] = 1 - (df['time_remaining'] / max_days)\n",
    "    \n",
    "    # Combine scores (weights can be adjusted)\n",
    "    df['overall_score'] = (0.4 * df['complexity_score'] + \n",
    "                          0.3 * df['priority_numeric'] / 3 + \n",
    "                          0.3 * df['urgency_score'])\n",
    "    \n",
    "    return df"
   ]
  },
  {
   "cell_type": "code",
   "execution_count": 21,
   "id": "5358d6d9",
   "metadata": {},
   "outputs": [],
   "source": [
    "def generate_recommendations(df, top_n=5):\n",
    "    \"\"\"Generate prioritized recommendations with explanations\"\"\"\n",
    "    # Sort by overall score\n",
    "    df_sorted = df.sort_values('overall_score', ascending=False).head(top_n)\n",
    "    \n",
    "    recommendations = []\n",
    "    for _, row in df_sorted.iterrows():\n",
    "        explanation = []\n",
    "        if row['complexity_score'] > 0.7:\n",
    "            explanation.append(\"high complexity\")\n",
    "        elif row['complexity_score'] > 0.4:\n",
    "            explanation.append(\"moderate complexity\")\n",
    "        else:\n",
    "            explanation.append(\"low complexity\")\n",
    "            \n",
    "        if row['time_remaining'] <= 3:\n",
    "            explanation.append(\"urgent deadline\")\n",
    "        elif row['time_remaining'] <= 7:\n",
    "            explanation.append(\"approaching deadline\")\n",
    "            \n",
    "        if 'priority' in row and pd.notna(row['priority']):\n",
    "            explanation.append(f\"{row['priority']} priority\")\n",
    "            \n",
    "        rec = {\n",
    "            'project/task': row['project name/title'],\n",
    "            'deadline': str(row['deadline'].date()),\n",
    "            'days_remaining': row['time_remaining'],\n",
    "            'reason': \", \".join(explanation),\n",
    "            'overall_score': round(row['overall_score'], 3)\n",
    "        }\n",
    "        recommendations.append(rec)\n",
    "    \n",
    "    return recommendations"
   ]
  },
  {
   "cell_type": "code",
   "execution_count": 22,
   "id": "159c0a72",
   "metadata": {},
   "outputs": [],
   "source": [
    "def run_prioritization_pipeline():\n",
    "    \"\"\"Complete pipeline from data extraction to recommendations\"\"\"\n",
    "    # Connect to DB\n",
    "    db = connect_to_mongodb()\n",
    "    if not db:\n",
    "        return None\n",
    "    \n",
    "    # Extract and preprocess data\n",
    "    df = fetch_and_preprocess_tasks(db)\n",
    "    \n",
    "    # Analyze text complexity\n",
    "    df = analyze_text_complexity(df)\n",
    "    \n",
    "    # Calculate priority scores\n",
    "    df = calculate_priority_scores(df)\n",
    "    \n",
    "    # Generate recommendations\n",
    "    recommendations = generate_recommendations(df)\n",
    "    \n",
    "    return recommendations"
   ]
  },
  {
   "cell_type": "code",
   "execution_count": 23,
   "id": "9d4b0a2e",
   "metadata": {},
   "outputs": [
    {
     "name": "stdout",
     "output_type": "stream",
     "text": [
      "Successfully connected to MongoDB\n"
     ]
    },
    {
     "ename": "NotImplementedError",
     "evalue": "Database objects do not implement truth value testing or bool(). Please compare with None instead: database is not None",
     "output_type": "error",
     "traceback": [
      "\u001b[1;31m---------------------------------------------------------------------------\u001b[0m",
      "\u001b[1;31mNotImplementedError\u001b[0m                       Traceback (most recent call last)",
      "Cell \u001b[1;32mIn[23], line 2\u001b[0m\n\u001b[0;32m      1\u001b[0m \u001b[38;5;28;01mif\u001b[39;00m \u001b[38;5;18m__name__\u001b[39m \u001b[38;5;241m==\u001b[39m \u001b[38;5;124m\"\u001b[39m\u001b[38;5;124m__main__\u001b[39m\u001b[38;5;124m\"\u001b[39m:\n\u001b[1;32m----> 2\u001b[0m     recommendations \u001b[38;5;241m=\u001b[39m \u001b[43mrun_prioritization_pipeline\u001b[49m\u001b[43m(\u001b[49m\u001b[43m)\u001b[49m\n\u001b[0;32m      3\u001b[0m     \u001b[38;5;28mprint\u001b[39m(\u001b[38;5;124m\"\u001b[39m\u001b[38;5;124mTop 5 Recommended Tasks/Projects:\u001b[39m\u001b[38;5;124m\"\u001b[39m)\n\u001b[0;32m      4\u001b[0m     \u001b[38;5;28;01mfor\u001b[39;00m i, rec \u001b[38;5;129;01min\u001b[39;00m \u001b[38;5;28menumerate\u001b[39m(recommendations, \u001b[38;5;241m1\u001b[39m):\n",
      "Cell \u001b[1;32mIn[22], line 5\u001b[0m, in \u001b[0;36mrun_prioritization_pipeline\u001b[1;34m()\u001b[0m\n\u001b[0;32m      3\u001b[0m \u001b[38;5;66;03m# Connect to DB\u001b[39;00m\n\u001b[0;32m      4\u001b[0m db \u001b[38;5;241m=\u001b[39m connect_to_mongodb()\n\u001b[1;32m----> 5\u001b[0m \u001b[38;5;28;01mif\u001b[39;00m \u001b[38;5;129;01mnot\u001b[39;00m db:\n\u001b[0;32m      6\u001b[0m     \u001b[38;5;28;01mreturn\u001b[39;00m \u001b[38;5;28;01mNone\u001b[39;00m\n\u001b[0;32m      8\u001b[0m \u001b[38;5;66;03m# Extract and preprocess data\u001b[39;00m\n",
      "File \u001b[1;32mc:\\Users\\rocka\\AppData\\Local\\Programs\\Python\\Python313\\Lib\\site-packages\\pymongo\\synchronous\\database.py:342\u001b[0m, in \u001b[0;36mDatabase.__bool__\u001b[1;34m(self)\u001b[0m\n\u001b[0;32m    341\u001b[0m \u001b[38;5;28;01mdef\u001b[39;00m \u001b[38;5;21m__bool__\u001b[39m(\u001b[38;5;28mself\u001b[39m) \u001b[38;5;241m-\u001b[39m\u001b[38;5;241m>\u001b[39m NoReturn:\n\u001b[1;32m--> 342\u001b[0m     \u001b[38;5;28;01mraise\u001b[39;00m \u001b[38;5;167;01mNotImplementedError\u001b[39;00m(\n\u001b[0;32m    343\u001b[0m         \u001b[38;5;124mf\u001b[39m\u001b[38;5;124m\"\u001b[39m\u001b[38;5;132;01m{\u001b[39;00m\u001b[38;5;28mtype\u001b[39m(\u001b[38;5;28mself\u001b[39m)\u001b[38;5;241m.\u001b[39m\u001b[38;5;18m__name__\u001b[39m\u001b[38;5;132;01m}\u001b[39;00m\u001b[38;5;124m objects do not implement truth \u001b[39m\u001b[38;5;124m\"\u001b[39m\n\u001b[0;32m    344\u001b[0m         \u001b[38;5;124m\"\u001b[39m\u001b[38;5;124mvalue testing or bool(). Please compare \u001b[39m\u001b[38;5;124m\"\u001b[39m\n\u001b[0;32m    345\u001b[0m         \u001b[38;5;124m\"\u001b[39m\u001b[38;5;124mwith None instead: database is not None\u001b[39m\u001b[38;5;124m\"\u001b[39m\n\u001b[0;32m    346\u001b[0m     )\n",
      "\u001b[1;31mNotImplementedError\u001b[0m: Database objects do not implement truth value testing or bool(). Please compare with None instead: database is not None"
     ]
    }
   ],
   "source": [
    "if __name__ == \"__main__\":\n",
    "    recommendations = run_prioritization_pipeline()\n",
    "    print(\"Top 5 Recommended Tasks/Projects:\")\n",
    "    for i, rec in enumerate(recommendations, 1):\n",
    "        print(f\"\\n{i}. {rec['project/task']}\")\n",
    "        print(f\"   Deadline: {rec['deadline']} ({rec['days_remaining']} days remaining)\")\n",
    "        print(f\"   Priority Score: {rec['overall_score']}\")\n",
    "        print(f\"   Reason: {rec['reason']}\")"
   ]
  },
  {
   "cell_type": "code",
   "execution_count": null,
   "id": "b36cecbc",
   "metadata": {},
   "outputs": [],
   "source": []
  }
 ],
 "metadata": {
  "kernelspec": {
   "display_name": "Python 3",
   "language": "python",
   "name": "python3"
  },
  "language_info": {
   "codemirror_mode": {
    "name": "ipython",
    "version": 3
   },
   "file_extension": ".py",
   "mimetype": "text/x-python",
   "name": "python",
   "nbconvert_exporter": "python",
   "pygments_lexer": "ipython3",
   "version": "3.13.0"
  }
 },
 "nbformat": 4,
 "nbformat_minor": 5
}
